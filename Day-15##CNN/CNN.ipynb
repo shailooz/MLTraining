{
 "cells": [
  {
   "cell_type": "code",
   "execution_count": 1,
   "metadata": {},
   "outputs": [],
   "source": [
    "import tensorflow as tf\n",
    "from tensorflow.keras import layers, models\n",
    "import random\n",
    "import numpy as np"
   ]
  },
  {
   "cell_type": "code",
   "execution_count": 2,
   "metadata": {},
   "outputs": [],
   "source": [
    "seed = 42\n",
    "random.seed(seed)\n",
    "np.random.seed(seed)\n",
    "tf.random.set_seed(seed)"
   ]
  },
  {
   "cell_type": "code",
   "execution_count": 3,
   "metadata": {},
   "outputs": [],
   "source": [
    "##Load mnist dataset\n",
    "mnist = tf.keras.datasets.mnist\n",
    "(x_train,y_train),(x_test,y_test) = mnist.load_data()"
   ]
  },
  {
   "cell_type": "code",
   "execution_count": 4,
   "metadata": {},
   "outputs": [
    {
     "name": "stdout",
     "output_type": "stream",
     "text": [
      "(60000, 28, 28)\n",
      "(60000,)\n",
      "(10000, 28, 28)\n",
      "(10000,)\n"
     ]
    }
   ],
   "source": [
    "print(x_train.shape)\n",
    "print(y_train.shape)\n",
    "print(x_test.shape)\n",
    "print(y_test.shape)"
   ]
  },
  {
   "cell_type": "code",
   "execution_count": 16,
   "metadata": {},
   "outputs": [],
   "source": [
    "x_train = x_train.reshape(-1,28,28,1)\n",
    "x_test = x_test.reshape(-1,28,28,1)"
   ]
  },
  {
   "cell_type": "code",
   "execution_count": 20,
   "metadata": {},
   "outputs": [],
   "source": [
    "y_train = tf.keras.utils.to_categorical(y_train)\n",
    "y_test = tf.keras.utils.to_categorical(y_test)"
   ]
  },
  {
   "cell_type": "code",
   "execution_count": 21,
   "metadata": {},
   "outputs": [
    {
     "name": "stdout",
     "output_type": "stream",
     "text": [
      "Model: \"sequential_5\"\n",
      "_________________________________________________________________\n",
      "Layer (type)                 Output Shape              Param #   \n",
      "=================================================================\n",
      "conv2d_10 (Conv2D)           (None, 26, 26, 10)        100       \n",
      "_________________________________________________________________\n",
      "max_pooling2d_6 (MaxPooling2 (None, 13, 13, 10)        0         \n",
      "_________________________________________________________________\n",
      "conv2d_11 (Conv2D)           (None, 11, 11, 64)        5824      \n",
      "_________________________________________________________________\n",
      "max_pooling2d_7 (MaxPooling2 (None, 5, 5, 64)          0         \n",
      "_________________________________________________________________\n",
      "conv2d_12 (Conv2D)           (None, 3, 3, 64)          36928     \n",
      "_________________________________________________________________\n",
      "flatten_3 (Flatten)          (None, 576)               0         \n",
      "_________________________________________________________________\n",
      "dense_9 (Dense)              (None, 64)                36928     \n",
      "_________________________________________________________________\n",
      "dense_10 (Dense)             (None, 32)                2080      \n",
      "_________________________________________________________________\n",
      "dense_11 (Dense)             (None, 10)                330       \n",
      "=================================================================\n",
      "Total params: 82,190\n",
      "Trainable params: 82,190\n",
      "Non-trainable params: 0\n",
      "_________________________________________________________________\n"
     ]
    }
   ],
   "source": [
    "cnnModel = models.Sequential()\n",
    "\n",
    "cnnModel.add(layers.Conv2D(10, (3,3), activation=\"relu\", \n",
    "                           input_shape=(28,28,1)))\n",
    "\n",
    "cnnModel.add(layers.MaxPooling2D((2,2)))\n",
    "\n",
    "cnnModel.add(layers.Conv2D(64, (3,3), activation=\"relu\"))\n",
    "\n",
    "cnnModel.add(layers.MaxPooling2D((2,2)))\n",
    "\n",
    "cnnModel.add(layers.Conv2D(64, (3,3), activation=\"relu\"))\n",
    "\n",
    "cnnModel.add(layers.Flatten())\n",
    "\n",
    "cnnModel.add(layers.Dense(64, activation=\"relu\"))\n",
    "\n",
    "cnnModel.add(layers.Dense(32, activation=\"relu\"))\n",
    "\n",
    "cnnModel.add(layers.Dense(10, activation=\"softmax\"))\n",
    "\n",
    "cnnModel.summary()"
   ]
  },
  {
   "cell_type": "code",
   "execution_count": 22,
   "metadata": {},
   "outputs": [],
   "source": [
    "cnnModel.compile(optimizer=\"adam\", \n",
    "                loss=\"categorical_crossentropy\",\n",
    "                metrics=[\"accuracy\"])"
   ]
  },
  {
   "cell_type": "code",
   "execution_count": 23,
   "metadata": {},
   "outputs": [
    {
     "name": "stdout",
     "output_type": "stream",
     "text": [
      "Epoch 1/20\n",
      "2143/2143 [==============================] - 15s 7ms/step - loss: 0.2866 - accuracy: 0.9256\n",
      "Epoch 2/20\n",
      "2143/2143 [==============================] - 16s 8ms/step - loss: 0.0708 - accuracy: 0.9791\n",
      "Epoch 3/20\n",
      "2143/2143 [==============================] - 17s 8ms/step - loss: 0.0550 - accuracy: 0.9840\n",
      "Epoch 4/20\n",
      "2143/2143 [==============================] - 17s 8ms/step - loss: 0.0468 - accuracy: 0.9862\n",
      "Epoch 5/20\n",
      "2143/2143 [==============================] - 17s 8ms/step - loss: 0.0383 - accuracy: 0.9886\n",
      "Epoch 6/20\n",
      "2143/2143 [==============================] - 17s 8ms/step - loss: 0.0326 - accuracy: 0.9902\n",
      "Epoch 7/20\n",
      "2143/2143 [==============================] - 17s 8ms/step - loss: 0.0313 - accuracy: 0.9907\n",
      "Epoch 8/20\n",
      "2143/2143 [==============================] - 17s 8ms/step - loss: 0.0273 - accuracy: 0.9919\n",
      "Epoch 9/20\n",
      "2143/2143 [==============================] - 17s 8ms/step - loss: 0.0250 - accuracy: 0.9926\n",
      "Epoch 10/20\n",
      "2143/2143 [==============================] - 16s 7ms/step - loss: 0.0219 - accuracy: 0.9935\n",
      "Epoch 11/20\n",
      "2143/2143 [==============================] - 16s 7ms/step - loss: 0.0210 - accuracy: 0.9941\n",
      "Epoch 12/20\n",
      "2143/2143 [==============================] - 16s 7ms/step - loss: 0.0211 - accuracy: 0.9941\n",
      "Epoch 13/20\n",
      "2143/2143 [==============================] - 15s 7ms/step - loss: 0.0196 - accuracy: 0.9949\n",
      "Epoch 14/20\n",
      "2143/2143 [==============================] - 15s 7ms/step - loss: 0.0167 - accuracy: 0.9952\n",
      "Epoch 15/20\n",
      "2143/2143 [==============================] - 16s 7ms/step - loss: 0.0187 - accuracy: 0.9950\n",
      "Epoch 16/20\n",
      "2143/2143 [==============================] - 16s 7ms/step - loss: 0.0159 - accuracy: 0.9959\n",
      "Epoch 17/20\n",
      "2143/2143 [==============================] - 16s 7ms/step - loss: 0.0180 - accuracy: 0.9953\n",
      "Epoch 18/20\n",
      "2143/2143 [==============================] - 16s 7ms/step - loss: 0.0156 - accuracy: 0.9958\n",
      "Epoch 19/20\n",
      "2143/2143 [==============================] - 15s 7ms/step - loss: 0.0148 - accuracy: 0.9959\n",
      "Epoch 20/20\n",
      "2143/2143 [==============================] - 16s 7ms/step - loss: 0.0153 - accuracy: 0.9957\n"
     ]
    },
    {
     "data": {
      "text/plain": [
       "<tensorflow.python.keras.callbacks.History at 0x17937c23820>"
      ]
     },
     "execution_count": 23,
     "metadata": {},
     "output_type": "execute_result"
    }
   ],
   "source": [
    "cnnModel.fit(x_train, y_train, epochs=20, batch_size=28)"
   ]
  },
  {
   "cell_type": "code",
   "execution_count": 24,
   "metadata": {},
   "outputs": [
    {
     "name": "stdout",
     "output_type": "stream",
     "text": [
      "313/313 [==============================] - 1s 3ms/step - loss: 0.0551 - accuracy: 0.9908\n"
     ]
    }
   ],
   "source": [
    "testLoss, testAccuracy = cnnModel.evaluate(x_test, y_test)"
   ]
  },
  {
   "cell_type": "code",
   "execution_count": 25,
   "metadata": {},
   "outputs": [],
   "source": [
    "cnnModel.save_weights('models/weights.h5')"
   ]
  },
  {
   "cell_type": "code",
   "execution_count": 26,
   "metadata": {},
   "outputs": [],
   "source": [
    "cnnModel.save('models/arch-weights.h5')"
   ]
  },
  {
   "cell_type": "code",
   "execution_count": 38,
   "metadata": {},
   "outputs": [
    {
     "name": "stdout",
     "output_type": "stream",
     "text": [
      "WARNING:tensorflow:From <ipython-input-38-f983cda2a17c>:1: Sequential.predict_classes (from tensorflow.python.keras.engine.sequential) is deprecated and will be removed after 2021-01-01.\n",
      "Instructions for updating:\n",
      "Please use instead:* `np.argmax(model.predict(x), axis=-1)`,   if your model does multi-class classification   (e.g. if it uses a `softmax` last-layer activation).* `(model.predict(x) > 0.5).astype(\"int32\")`,   if your model does binary classification   (e.g. if it uses a `sigmoid` last-layer activation).\n"
     ]
    }
   ],
   "source": [
    "y_pred = cnnModel.predict_classes(x_test)"
   ]
  },
  {
   "cell_type": "code",
   "execution_count": 39,
   "metadata": {},
   "outputs": [
    {
     "name": "stdout",
     "output_type": "stream",
     "text": [
      "[7 2 1 ... 4 5 6]\n"
     ]
    }
   ],
   "source": [
    "print(y_pred)"
   ]
  },
  {
   "cell_type": "code",
   "execution_count": 40,
   "metadata": {},
   "outputs": [
    {
     "data": {
      "text/plain": [
       "<tf.Tensor: shape=(10, 10), dtype=int32, numpy=\n",
       "array([[ 977,    1,    0,    1,    0,    0,    0,    1,    0,    0],\n",
       "       [   0, 1131,    1,    1,    0,    0,    0,    2,    0,    0],\n",
       "       [   0,    1, 1022,    0,    1,    0,    2,    4,    2,    0],\n",
       "       [   0,    0,    2, 1001,    0,    4,    0,    2,    1,    0],\n",
       "       [   0,    0,    1,    0,  965,    0,    3,    1,    0,   12],\n",
       "       [   0,    0,    0,    5,    0,  884,    1,    0,    1,    1],\n",
       "       [   5,    3,    0,    0,    1,    1,  947,    0,    1,    0],\n",
       "       [   0,    2,    2,    0,    1,    0,    0, 1020,    0,    3],\n",
       "       [   0,    0,    0,    3,    0,    1,    0,    2,  966,    2],\n",
       "       [   1,    0,    1,    1,    6,    1,    0,    4,    0,  995]])>"
      ]
     },
     "execution_count": 40,
     "metadata": {},
     "output_type": "execute_result"
    }
   ],
   "source": [
    "tf.math.confusion_matrix(np.argmax(y_test, axis=1),y_pred)"
   ]
  },
  {
   "cell_type": "code",
   "execution_count": 44,
   "metadata": {},
   "outputs": [
    {
     "name": "stdout",
     "output_type": "stream",
     "text": [
      "[7]\n"
     ]
    }
   ],
   "source": [
    "print(cnnModel.predict_classes(x_test[:1]))"
   ]
  },
  {
   "cell_type": "code",
   "execution_count": null,
   "metadata": {},
   "outputs": [],
   "source": []
  }
 ],
 "metadata": {
  "kernelspec": {
   "display_name": "Python 3",
   "language": "python",
   "name": "python3"
  },
  "language_info": {
   "codemirror_mode": {
    "name": "ipython",
    "version": 3
   },
   "file_extension": ".py",
   "mimetype": "text/x-python",
   "name": "python",
   "nbconvert_exporter": "python",
   "pygments_lexer": "ipython3",
   "version": "3.8.3"
  }
 },
 "nbformat": 4,
 "nbformat_minor": 4
}
